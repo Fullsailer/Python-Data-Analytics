{
  "nbformat": 4,
  "nbformat_minor": 0,
  "metadata": {
    "colab": {
      "provenance": [],
      "authorship_tag": "ABX9TyPhUi/V4EJi00zWcmG6HxXd",
      "include_colab_link": true
    },
    "kernelspec": {
      "name": "python3",
      "display_name": "Python 3"
    },
    "language_info": {
      "name": "python"
    }
  },
  "cells": [
    {
      "cell_type": "markdown",
      "metadata": {
        "id": "view-in-github",
        "colab_type": "text"
      },
      "source": [
        "<a href=\"https://colab.research.google.com/github/Fullsailer/Python-Data-Analytics/blob/main/IntroToColabCourse.ipynb\" target=\"_parent\"><img src=\"https://colab.research.google.com/assets/colab-badge.svg\" alt=\"Open In Colab\"/></a>"
      ]
    },
    {
      "cell_type": "markdown",
      "source": [
        "# Hello World Print statement in Colab\n",
        " "
      ],
      "metadata": {
        "id": "vfbVBSunnkrC"
      }
    },
    {
      "cell_type": "code",
      "execution_count": null,
      "metadata": {
        "colab": {
          "base_uri": "https://localhost:8080/"
        },
        "id": "pcCQT5wiY3NQ",
        "outputId": "746bbb99-0d1b-4d17-cfa1-4506b7954353"
      },
      "outputs": [
        {
          "output_type": "stream",
          "name": "stdout",
          "text": [
            "Hello World!!\n",
            "hello again!\n"
          ]
        }
      ],
      "source": [
        "print(\"Hello World!!\")\n",
        "print(\"hello again!\")"
      ]
    },
    {
      "cell_type": "markdown",
      "source": [
        "# Example 1 of creating a \n"
      ],
      "metadata": {
        "id": "wtP1UfYZa7q1"
      }
    },
    {
      "cell_type": "code",
      "source": [
        "import matplotlib.pyplot as plt\n",
        "import numpy as np\n",
        "label = ['Adventure', 'Action', 'Drama', 'Comedy']\n",
        "no_movies = [941,854,4595,2125]\n",
        "plt.bar(label, no_movies)\n",
        "plt.xlabel('Genre', fontsize=10)\n",
        "plt.ylabel('No of Movies', fontsize=10)\n",
        "plt.xticks(label, label, fontsize=10, rotation=90)\n",
        "plt.title(\"Market Share for Each Genre 1885-2017\")\n",
        "plt.show()"
      ],
      "metadata": {
        "colab": {
          "base_uri": "https://localhost:8080/",
          "height": 337
        },
        "id": "PZ2rnegwauTg",
        "outputId": "5f4aca4e-aed9-4d36-f5a2-c38960992bd5"
      },
      "execution_count": null,
      "outputs": [
        {
          "output_type": "display_data",
          "data": {
            "text/plain": [
              "<Figure size 432x288 with 1 Axes>"
            ],
            "image/png": "[encoded data removed]"
          },
          "metadata": {
            "needs_background": "light"
          }
        }
      ]
    }
  ]
}